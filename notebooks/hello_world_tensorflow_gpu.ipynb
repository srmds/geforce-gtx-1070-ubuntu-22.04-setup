{
 "cells": [
  {
   "cell_type": "code",
   "execution_count": 1,
   "metadata": {},
   "outputs": [
    {
     "name": "stderr",
     "output_type": "stream",
     "text": [
      "2023-06-05 01:56:37.363349: I tensorflow/core/platform/cpu_feature_guard.cc:182] This TensorFlow binary is optimized to use available CPU instructions in performance-critical operations.\n",
      "To enable the following instructions: AVX2 FMA, in other operations, rebuild TensorFlow with the appropriate compiler flags.\n",
      "2023-06-05 01:56:37.931778: W tensorflow/compiler/tf2tensorrt/utils/py_utils.cc:38] TF-TRT Warning: Could not find TensorRT\n"
     ]
    },
    {
     "name": "stdout",
     "output_type": "stream",
     "text": [
      "\n"
     ]
    },
    {
     "name": "stderr",
     "output_type": "stream",
     "text": [
      "2023-06-05 01:56:38.440027: I tensorflow/compiler/xla/stream_executor/cuda/cuda_gpu_executor.cc:996] successful NUMA node read from SysFS had negative value (-1), but there must be at least one NUMA node, so returning NUMA node zero. See more at https://github.com/torvalds/linux/blob/v6.0/Documentation/ABI/testing/sysfs-bus-pci#L344-L355\n",
      "2023-06-05 01:56:38.471109: W tensorflow/core/common_runtime/gpu/gpu_device.cc:1956] Cannot dlopen some GPU libraries. Please make sure the missing libraries mentioned above are installed properly if you would like to use GPU. Follow the guide at https://www.tensorflow.org/install/gpu for how to download and setup the required libraries for your platform.\n",
      "Skipping registering GPU devices...\n"
     ]
    }
   ],
   "source": [
    "import platform\n",
    "platform.system()\n",
    "import tensorflow as tf\n",
    "print(tf.test.gpu_device_name())"
   ]
  },
  {
   "cell_type": "code",
   "execution_count": 2,
   "metadata": {},
   "outputs": [
    {
     "name": "stderr",
     "output_type": "stream",
     "text": [
      "2023-06-05 01:56:38.524341: I tensorflow/compiler/xla/stream_executor/cuda/cuda_gpu_executor.cc:996] successful NUMA node read from SysFS had negative value (-1), but there must be at least one NUMA node, so returning NUMA node zero. See more at https://github.com/torvalds/linux/blob/v6.0/Documentation/ABI/testing/sysfs-bus-pci#L344-L355\n",
      "2023-06-05 01:56:38.524469: W tensorflow/core/common_runtime/gpu/gpu_device.cc:1956] Cannot dlopen some GPU libraries. Please make sure the missing libraries mentioned above are installed properly if you would like to use GPU. Follow the guide at https://www.tensorflow.org/install/gpu for how to download and setup the required libraries for your platform.\n",
      "Skipping registering GPU devices...\n"
     ]
    },
    {
     "data": {
      "text/plain": [
       "[]"
      ]
     },
     "execution_count": 2,
     "metadata": {},
     "output_type": "execute_result"
    }
   ],
   "source": [
    "import tensorflow as tf\n",
    "tf.config.list_physical_devices('GPU')"
   ]
  },
  {
   "cell_type": "code",
   "execution_count": 3,
   "metadata": {},
   "outputs": [
    {
     "name": "stdout",
     "output_type": "stream",
     "text": [
      "[]\n"
     ]
    },
    {
     "name": "stderr",
     "output_type": "stream",
     "text": [
      "2023-06-05 01:56:39.949164: I tensorflow/compiler/xla/stream_executor/cuda/cuda_gpu_executor.cc:996] successful NUMA node read from SysFS had negative value (-1), but there must be at least one NUMA node, so returning NUMA node zero. See more at https://github.com/torvalds/linux/blob/v6.0/Documentation/ABI/testing/sysfs-bus-pci#L344-L355\n",
      "2023-06-05 01:56:39.949327: W tensorflow/core/common_runtime/gpu/gpu_device.cc:1956] Cannot dlopen some GPU libraries. Please make sure the missing libraries mentioned above are installed properly if you would like to use GPU. Follow the guide at https://www.tensorflow.org/install/gpu for how to download and setup the required libraries for your platform.\n",
      "Skipping registering GPU devices...\n"
     ]
    }
   ],
   "source": [
    "from tensorflow.python.client import device_lib\n",
    "\n",
    "def get_available_gpus():\n",
    "    local_device_protos = device_lib.list_local_devices()\n",
    "    return [x.name for x in local_device_protos if x.device_type == 'GPU']\n",
    "\n",
    "print(get_available_gpus())"
   ]
  },
  {
   "cell_type": "code",
   "execution_count": 4,
   "metadata": {},
   "outputs": [
    {
     "name": "stdout",
     "output_type": "stream",
     "text": [
      "WARNING:tensorflow:From /tmp/ipykernel_225950/337460670.py:1: is_gpu_available (from tensorflow.python.framework.test_util) is deprecated and will be removed in a future version.\n",
      "Instructions for updating:\n",
      "Use `tf.config.list_physical_devices('GPU')` instead.\n"
     ]
    },
    {
     "name": "stderr",
     "output_type": "stream",
     "text": [
      "2023-06-05 01:56:40.615931: I tensorflow/compiler/xla/stream_executor/cuda/cuda_gpu_executor.cc:996] successful NUMA node read from SysFS had negative value (-1), but there must be at least one NUMA node, so returning NUMA node zero. See more at https://github.com/torvalds/linux/blob/v6.0/Documentation/ABI/testing/sysfs-bus-pci#L344-L355\n"
     ]
    },
    {
     "data": {
      "text/plain": [
       "False"
      ]
     },
     "execution_count": 4,
     "metadata": {},
     "output_type": "execute_result"
    },
    {
     "name": "stderr",
     "output_type": "stream",
     "text": [
      "2023-06-05 01:56:40.616082: W tensorflow/core/common_runtime/gpu/gpu_device.cc:1956] Cannot dlopen some GPU libraries. Please make sure the missing libraries mentioned above are installed properly if you would like to use GPU. Follow the guide at https://www.tensorflow.org/install/gpu for how to download and setup the required libraries for your platform.\n",
      "Skipping registering GPU devices...\n"
     ]
    }
   ],
   "source": [
    "tf.test.is_gpu_available()"
   ]
  },
  {
   "cell_type": "code",
   "execution_count": 5,
   "metadata": {},
   "outputs": [
    {
     "data": {
      "text/plain": [
       "[]"
      ]
     },
     "execution_count": 5,
     "metadata": {},
     "output_type": "execute_result"
    }
   ],
   "source": [
    "tf.config.list_physical_devices('GPU')"
   ]
  },
  {
   "cell_type": "code",
   "execution_count": 6,
   "metadata": {},
   "outputs": [
    {
     "name": "stdout",
     "output_type": "stream",
     "text": [
      "WARNING:tensorflow:From /home/p0s1x/Documents/workspace/personal/geforce-gtx-1070-ubuntu-22.04-setup/.venv/lib/python3.10/site-packages/tensorflow/python/compat/v2_compat.py:107: disable_resource_variables (from tensorflow.python.ops.variable_scope) is deprecated and will be removed in a future version.\n",
      "Instructions for updating:\n",
      "non-resource variables are not supported in the long term\n"
     ]
    },
    {
     "name": "stderr",
     "output_type": "stream",
     "text": [
      "2023-06-05 01:56:41.549081: I tensorflow/compiler/mlir/mlir_graph_optimization_pass.cc:353] MLIR V1 optimization pass is not enabled\n"
     ]
    },
    {
     "data": {
      "text/plain": [
       "56088"
      ]
     },
     "execution_count": 6,
     "metadata": {},
     "output_type": "execute_result"
    }
   ],
   "source": [
    "import tensorflow.compat.v1 as tf\n",
    "tf.disable_v2_behavior()\n",
    "sess = tf.compat.v1.Session()\n",
    "sess.run(tf.constant(123)*tf.constant(456))"
   ]
  },
  {
   "cell_type": "code",
   "execution_count": 7,
   "metadata": {},
   "outputs": [
    {
     "data": {
      "text/plain": [
       "<tf.Tensor 'mul_1:0' shape=() dtype=int32>"
      ]
     },
     "execution_count": 7,
     "metadata": {},
     "output_type": "execute_result"
    }
   ],
   "source": [
    "\n",
    "tf.constant(123)*tf.constant(456)"
   ]
  },
  {
   "cell_type": "code",
   "execution_count": 8,
   "metadata": {},
   "outputs": [
    {
     "name": "stdout",
     "output_type": "stream",
     "text": [
      "Tensor(\"MatMul:0\", shape=(2, 2), dtype=float32, device=/device:GPU:0)\n"
     ]
    }
   ],
   "source": [
    "# Creates a graph.\n",
    "with tf.device('/gpu:0'):\n",
    " a = tf.constant([1.0, 2.0, 3.0, 4.0, 5.0, 6.0], shape=[2, 3], name='a')\n",
    " b = tf.constant([1.0, 2.0, 3.0, 4.0, 5.0, 6.0], shape=[3, 2], name='b')\n",
    " c = tf.matmul(a, b)\n",
    " print(c)"
   ]
  },
  {
   "cell_type": "code",
   "execution_count": 9,
   "metadata": {},
   "outputs": [
    {
     "name": "stdout",
     "output_type": "stream",
     "text": [
      "Downloading data from https://storage.googleapis.com/tensorflow/tf-keras-datasets/mnist.npz\n",
      "11490434/11490434 [==============================] - 0s 0us/step\n",
      "Train on 60000 samples\n",
      "Epoch 1/5\n",
      " 4480/60000 [=>............................] - ETA: 1s - loss: 0.8164 - acc: 0.7674 "
     ]
    },
    {
     "name": "stderr",
     "output_type": "stream",
     "text": [
      "2023-06-05 01:56:43.974156: W tensorflow/core/common_runtime/colocation_graph.cc:1214] Failed to place the graph without changing the devices of some resources. Some of the operations (that had to be colocated with resource generating operations) are not supported on the resources' devices. Current candidate devices are [\n",
      "  /job:localhost/replica:0/task:0/device:CPU:0].\n",
      "See below for details of this colocation group:\n",
      "Colocation Debug Info:\n",
      "Colocation group had the following types and supported devices: \n",
      "Root Member(assigned_device_name_index_=-1 requested_device_name_='/device:GPU:0' assigned_device_name_='' resource_device_name_='/device:GPU:0' supported_device_types_=[CPU] possible_devices_=[]\n",
      "Fill: CPU \n",
      "ReadVariableOp: CPU \n",
      "VarIsInitializedOp: CPU \n",
      "VarHandleOp: CPU \n",
      "AssignVariableOp: CPU \n",
      "Mul: CPU \n",
      "Sub: CPU \n",
      "AddV2: CPU \n",
      "RandomUniform: CPU \n",
      "ResourceApplyAdam: CPU \n",
      "Const: CPU \n",
      "\n",
      "Colocation members, user-requested devices, and framework assigned devices, if any:\n",
      "  dense/kernel/Initializer/random_uniform/shape (Const) \n",
      "  dense/kernel/Initializer/random_uniform/min (Const) \n",
      "  dense/kernel/Initializer/random_uniform/max (Const) \n",
      "  dense/kernel/Initializer/random_uniform/RandomUniform (RandomUniform) \n",
      "  dense/kernel/Initializer/random_uniform/sub (Sub) \n",
      "  dense/kernel/Initializer/random_uniform/mul (Mul) \n",
      "  dense/kernel/Initializer/random_uniform (AddV2) \n",
      "  dense/kernel (VarHandleOp) /device:GPU:0\n",
      "  dense/kernel/IsInitialized/VarIsInitializedOp (VarIsInitializedOp) /device:GPU:0\n",
      "  dense/kernel/Assign (AssignVariableOp) /device:GPU:0\n",
      "  dense/kernel/Read/ReadVariableOp (ReadVariableOp) /device:GPU:0\n",
      "  dense/MatMul/ReadVariableOp (ReadVariableOp) \n",
      "  training/Adam/dense/kernel/m/Initializer/zeros/shape_as_tensor (Const) /device:GPU:0\n",
      "  training/Adam/dense/kernel/m/Initializer/zeros/Const (Const) /device:GPU:0\n",
      "  training/Adam/dense/kernel/m/Initializer/zeros (Fill) /device:GPU:0\n",
      "  training/Adam/dense/kernel/m (VarHandleOp) /device:GPU:0\n",
      "  training/Adam/dense/kernel/m/IsInitialized/VarIsInitializedOp (VarIsInitializedOp) /device:GPU:0\n",
      "  training/Adam/dense/kernel/m/Assign (AssignVariableOp) /device:GPU:0\n",
      "  training/Adam/dense/kernel/m/Read/ReadVariableOp (ReadVariableOp) /device:GPU:0\n",
      "  training/Adam/dense/kernel/v/Initializer/zeros/shape_as_tensor (Const) /device:GPU:0\n",
      "  training/Adam/dense/kernel/v/Initializer/zeros/Const (Const) /device:GPU:0\n",
      "  training/Adam/dense/kernel/v/Initializer/zeros (Fill) /device:GPU:0\n",
      "  training/Adam/dense/kernel/v (VarHandleOp) /device:GPU:0\n",
      "  training/Adam/dense/kernel/v/IsInitialized/VarIsInitializedOp (VarIsInitializedOp) /device:GPU:0\n",
      "  training/Adam/dense/kernel/v/Assign (AssignVariableOp) /device:GPU:0\n",
      "  training/Adam/dense/kernel/v/Read/ReadVariableOp (ReadVariableOp) /device:GPU:0\n",
      "  training/Adam/Adam/update_dense/kernel/ResourceApplyAdam (ResourceApplyAdam) /device:GPU:0\n",
      "  VarIsInitializedOp (VarIsInitializedOp) /device:GPU:0\n",
      "  VarIsInitializedOp_5 (VarIsInitializedOp) /device:GPU:0\n",
      "  VarIsInitializedOp_15 (VarIsInitializedOp) /device:GPU:0\n",
      "\n",
      "2023-06-05 01:56:43.974206: W tensorflow/core/common_runtime/colocation_graph.cc:1214] Failed to place the graph without changing the devices of some resources. Some of the operations (that had to be colocated with resource generating operations) are not supported on the resources' devices. Current candidate devices are [\n",
      "  /job:localhost/replica:0/task:0/device:CPU:0].\n",
      "See below for details of this colocation group:\n",
      "Colocation Debug Info:\n",
      "Colocation group had the following types and supported devices: \n",
      "Root Member(assigned_device_name_index_=-1 requested_device_name_='/device:GPU:0' assigned_device_name_='' resource_device_name_='/device:GPU:0' supported_device_types_=[CPU] possible_devices_=[]\n",
      "AssignVariableOp: CPU \n",
      "ReadVariableOp: CPU \n",
      "VarIsInitializedOp: CPU \n",
      "VarHandleOp: CPU \n",
      "ResourceApplyAdam: CPU \n",
      "Const: CPU \n",
      "\n",
      "Colocation members, user-requested devices, and framework assigned devices, if any:\n",
      "  dense/bias/Initializer/zeros (Const) \n",
      "  dense/bias (VarHandleOp) /device:GPU:0\n",
      "  dense/bias/IsInitialized/VarIsInitializedOp (VarIsInitializedOp) /device:GPU:0\n",
      "  dense/bias/Assign (AssignVariableOp) /device:GPU:0\n",
      "  dense/bias/Read/ReadVariableOp (ReadVariableOp) /device:GPU:0\n",
      "  dense/BiasAdd/ReadVariableOp (ReadVariableOp) \n",
      "  training/Adam/dense/bias/m/Initializer/zeros (Const) /device:GPU:0\n",
      "  training/Adam/dense/bias/m (VarHandleOp) /device:GPU:0\n",
      "  training/Adam/dense/bias/m/IsInitialized/VarIsInitializedOp (VarIsInitializedOp) /device:GPU:0\n",
      "  training/Adam/dense/bias/m/Assign (AssignVariableOp) /device:GPU:0\n",
      "  training/Adam/dense/bias/m/Read/ReadVariableOp (ReadVariableOp) /device:GPU:0\n",
      "  training/Adam/dense/bias/v/Initializer/zeros (Const) /device:GPU:0\n",
      "  training/Adam/dense/bias/v (VarHandleOp) /device:GPU:0\n",
      "  training/Adam/dense/bias/v/IsInitialized/VarIsInitializedOp (VarIsInitializedOp) /device:GPU:0\n",
      "  training/Adam/dense/bias/v/Assign (AssignVariableOp) /device:GPU:0\n",
      "  training/Adam/dense/bias/v/Read/ReadVariableOp (ReadVariableOp) /device:GPU:0\n",
      "  training/Adam/Adam/update_dense/bias/ResourceApplyAdam (ResourceApplyAdam) /device:GPU:0\n",
      "  VarIsInitializedOp_6 (VarIsInitializedOp) /device:GPU:0\n",
      "  VarIsInitializedOp_11 (VarIsInitializedOp) /device:GPU:0\n",
      "  VarIsInitializedOp_17 (VarIsInitializedOp) /device:GPU:0\n",
      "\n",
      "2023-06-05 01:56:43.974256: W tensorflow/core/common_runtime/colocation_graph.cc:1214] Failed to place the graph without changing the devices of some resources. Some of the operations (that had to be colocated with resource generating operations) are not supported on the resources' devices. Current candidate devices are [\n",
      "  /job:localhost/replica:0/task:0/device:CPU:0].\n",
      "See below for details of this colocation group:\n",
      "Colocation Debug Info:\n",
      "Colocation group had the following types and supported devices: \n",
      "Root Member(assigned_device_name_index_=-1 requested_device_name_='/device:GPU:0' assigned_device_name_='' resource_device_name_='/device:GPU:0' supported_device_types_=[CPU] possible_devices_=[]\n",
      "Fill: CPU \n",
      "ReadVariableOp: CPU \n",
      "VarIsInitializedOp: CPU \n",
      "VarHandleOp: CPU \n",
      "AssignVariableOp: CPU \n",
      "Mul: CPU \n",
      "Sub: CPU \n",
      "AddV2: CPU \n",
      "RandomUniform: CPU \n",
      "ResourceApplyAdam: CPU \n",
      "Const: CPU \n",
      "\n",
      "Colocation members, user-requested devices, and framework assigned devices, if any:\n",
      "  dense_1/kernel/Initializer/random_uniform/shape (Const) \n",
      "  dense_1/kernel/Initializer/random_uniform/min (Const) \n",
      "  dense_1/kernel/Initializer/random_uniform/max (Const) \n",
      "  dense_1/kernel/Initializer/random_uniform/RandomUniform (RandomUniform) \n",
      "  dense_1/kernel/Initializer/random_uniform/sub (Sub) \n",
      "  dense_1/kernel/Initializer/random_uniform/mul (Mul) \n",
      "  dense_1/kernel/Initializer/random_uniform (AddV2) \n",
      "  dense_1/kernel (VarHandleOp) /device:GPU:0\n",
      "  dense_1/kernel/IsInitialized/VarIsInitializedOp (VarIsInitializedOp) /device:GPU:0\n",
      "  dense_1/kernel/Assign (AssignVariableOp) /device:GPU:0\n",
      "  dense_1/kernel/Read/ReadVariableOp (ReadVariableOp) /device:GPU:0\n",
      "  dense_1/MatMul/ReadVariableOp (ReadVariableOp) \n",
      "  training/Adam/dense_1/kernel/m/Initializer/zeros/shape_as_tensor (Const) /device:GPU:0\n",
      "  training/Adam/dense_1/kernel/m/Initializer/zeros/Const (Const) /device:GPU:0\n",
      "  training/Adam/dense_1/kernel/m/Initializer/zeros (Fill) /device:GPU:0\n",
      "  training/Adam/dense_1/kernel/m (VarHandleOp) /device:GPU:0\n",
      "  training/Adam/dense_1/kernel/m/IsInitialized/VarIsInitializedOp (VarIsInitializedOp) /device:GPU:0\n",
      "  training/Adam/dense_1/kernel/m/Assign (AssignVariableOp) /device:GPU:0\n",
      "  training/Adam/dense_1/kernel/m/Read/ReadVariableOp (ReadVariableOp) /device:GPU:0\n",
      "  training/Adam/dense_1/kernel/v/Initializer/zeros/shape_as_tensor (Const) /device:GPU:0\n",
      "  training/Adam/dense_1/kernel/v/Initializer/zeros/Const (Const) /device:GPU:0\n",
      "  training/Adam/dense_1/kernel/v/Initializer/zeros (Fill) /device:GPU:0\n",
      "  training/Adam/dense_1/kernel/v (VarHandleOp) /device:GPU:0\n",
      "  training/Adam/dense_1/kernel/v/IsInitialized/VarIsInitializedOp (VarIsInitializedOp) /device:GPU:0\n",
      "  training/Adam/dense_1/kernel/v/Assign (AssignVariableOp) /device:GPU:0\n",
      "  training/Adam/dense_1/kernel/v/Read/ReadVariableOp (ReadVariableOp) /device:GPU:0\n",
      "  training/Adam/Adam/update_dense_1/kernel/ResourceApplyAdam (ResourceApplyAdam) /device:GPU:0\n",
      "  VarIsInitializedOp_3 (VarIsInitializedOp) /device:GPU:0\n",
      "  VarIsInitializedOp_7 (VarIsInitializedOp) /device:GPU:0\n",
      "  VarIsInitializedOp_18 (VarIsInitializedOp) /device:GPU:0\n",
      "\n",
      "2023-06-05 01:56:43.974282: W tensorflow/core/common_runtime/colocation_graph.cc:1214] Failed to place the graph without changing the devices of some resources. Some of the operations (that had to be colocated with resource generating operations) are not supported on the resources' devices. Current candidate devices are [\n",
      "  /job:localhost/replica:0/task:0/device:CPU:0].\n",
      "See below for details of this colocation group:\n",
      "Colocation Debug Info:\n",
      "Colocation group had the following types and supported devices: \n",
      "Root Member(assigned_device_name_index_=-1 requested_device_name_='/device:GPU:0' assigned_device_name_='' resource_device_name_='/device:GPU:0' supported_device_types_=[CPU] possible_devices_=[]\n",
      "AssignVariableOp: CPU \n",
      "ReadVariableOp: CPU \n",
      "VarIsInitializedOp: CPU \n",
      "VarHandleOp: CPU \n",
      "ResourceApplyAdam: CPU \n",
      "Const: CPU \n",
      "\n",
      "Colocation members, user-requested devices, and framework assigned devices, if any:\n",
      "  dense_1/bias/Initializer/zeros (Const) \n",
      "  dense_1/bias (VarHandleOp) /device:GPU:0\n",
      "  dense_1/bias/IsInitialized/VarIsInitializedOp (VarIsInitializedOp) /device:GPU:0\n",
      "  dense_1/bias/Assign (AssignVariableOp) /device:GPU:0\n",
      "  dense_1/bias/Read/ReadVariableOp (ReadVariableOp) /device:GPU:0\n",
      "  dense_1/BiasAdd/ReadVariableOp (ReadVariableOp) \n",
      "  training/Adam/dense_1/bias/m/Initializer/zeros (Const) /device:GPU:0\n",
      "  training/Adam/dense_1/bias/m (VarHandleOp) /device:GPU:0\n",
      "  training/Adam/dense_1/bias/m/IsInitialized/VarIsInitializedOp (VarIsInitializedOp) /device:GPU:0\n",
      "  training/Adam/dense_1/bias/m/Assign (AssignVariableOp) /device:GPU:0\n",
      "  training/Adam/dense_1/bias/m/Read/ReadVariableOp (ReadVariableOp) /device:GPU:0\n",
      "  training/Adam/dense_1/bias/v/Initializer/zeros (Const) /device:GPU:0\n",
      "  training/Adam/dense_1/bias/v (VarHandleOp) /device:GPU:0\n",
      "  training/Adam/dense_1/bias/v/IsInitialized/VarIsInitializedOp (VarIsInitializedOp) /device:GPU:0\n",
      "  training/Adam/dense_1/bias/v/Assign (AssignVariableOp) /device:GPU:0\n",
      "  training/Adam/dense_1/bias/v/Read/ReadVariableOp (ReadVariableOp) /device:GPU:0\n",
      "  training/Adam/Adam/update_dense_1/bias/ResourceApplyAdam (ResourceApplyAdam) /device:GPU:0\n",
      "  VarIsInitializedOp_9 (VarIsInitializedOp) /device:GPU:0\n",
      "  VarIsInitializedOp_13 (VarIsInitializedOp) /device:GPU:0\n",
      "  VarIsInitializedOp_16 (VarIsInitializedOp) /device:GPU:0\n",
      "\n",
      "2023-06-05 01:56:43.974303: W tensorflow/core/common_runtime/colocation_graph.cc:1214] Failed to place the graph without changing the devices of some resources. Some of the operations (that had to be colocated with resource generating operations) are not supported on the resources' devices. Current candidate devices are [\n",
      "  /job:localhost/replica:0/task:0/device:CPU:0].\n",
      "See below for details of this colocation group:\n",
      "Colocation Debug Info:\n",
      "Colocation group had the following types and supported devices: \n",
      "Root Member(assigned_device_name_index_=-1 requested_device_name_='/device:GPU:0' assigned_device_name_='' resource_device_name_='/device:GPU:0' supported_device_types_=[CPU] possible_devices_=[]\n",
      "AssignAddVariableOp: CPU \n",
      "AssignVariableOp: CPU \n",
      "ReadVariableOp: CPU \n",
      "VarIsInitializedOp: CPU \n",
      "VarHandleOp: CPU \n",
      "Const: CPU \n",
      "\n",
      "Colocation members, user-requested devices, and framework assigned devices, if any:\n",
      "  total/Initializer/zeros (Const) \n",
      "  total (VarHandleOp) /device:GPU:0\n",
      "  total/IsInitialized/VarIsInitializedOp (VarIsInitializedOp) /device:GPU:0\n",
      "  total/Assign (AssignVariableOp) /device:GPU:0\n",
      "  total/Read/ReadVariableOp (ReadVariableOp) /device:GPU:0\n",
      "  metrics/acc/AssignAddVariableOp (AssignAddVariableOp) /device:GPU:0\n",
      "  metrics/acc/ReadVariableOp (ReadVariableOp) /device:GPU:0\n",
      "  metrics/acc/div_no_nan/ReadVariableOp (ReadVariableOp) \n",
      "  AssignVariableOp (AssignVariableOp) /device:GPU:0\n",
      "  ReadVariableOp (ReadVariableOp) /device:GPU:0\n",
      "  VarIsInitializedOp_10 (VarIsInitializedOp) /device:GPU:0\n",
      "\n",
      "2023-06-05 01:56:43.974320: W tensorflow/core/common_runtime/colocation_graph.cc:1214] Failed to place the graph without changing the devices of some resources. Some of the operations (that had to be colocated with resource generating operations) are not supported on the resources' devices. Current candidate devices are [\n",
      "  /job:localhost/replica:0/task:0/device:CPU:0].\n",
      "See below for details of this colocation group:\n",
      "Colocation Debug Info:\n",
      "Colocation group had the following types and supported devices: \n",
      "Root Member(assigned_device_name_index_=-1 requested_device_name_='/device:GPU:0' assigned_device_name_='' resource_device_name_='/device:GPU:0' supported_device_types_=[CPU] possible_devices_=[]\n",
      "AssignAddVariableOp: CPU \n",
      "AssignVariableOp: CPU \n",
      "ReadVariableOp: CPU \n",
      "VarIsInitializedOp: CPU \n",
      "VarHandleOp: CPU \n",
      "Const: CPU \n",
      "\n",
      "Colocation members, user-requested devices, and framework assigned devices, if any:\n",
      "  count/Initializer/zeros (Const) \n",
      "  count (VarHandleOp) /device:GPU:0\n",
      "  count/IsInitialized/VarIsInitializedOp (VarIsInitializedOp) /device:GPU:0\n",
      "  count/Assign (AssignVariableOp) /device:GPU:0\n",
      "  count/Read/ReadVariableOp (ReadVariableOp) /device:GPU:0\n",
      "  metrics/acc/AssignAddVariableOp_1 (AssignAddVariableOp) /device:GPU:0\n",
      "  metrics/acc/ReadVariableOp_1 (ReadVariableOp) /device:GPU:0\n",
      "  metrics/acc/div_no_nan/ReadVariableOp_1 (ReadVariableOp) \n",
      "  AssignVariableOp_1 (AssignVariableOp) /device:GPU:0\n",
      "  ReadVariableOp_1 (ReadVariableOp) /device:GPU:0\n",
      "  VarIsInitializedOp_1 (VarIsInitializedOp) /device:GPU:0\n",
      "\n",
      "2023-06-05 01:56:43.974390: W tensorflow/core/common_runtime/colocation_graph.cc:1214] Failed to place the graph without changing the devices of some resources. Some of the operations (that had to be colocated with resource generating operations) are not supported on the resources' devices. Current candidate devices are [\n",
      "  /job:localhost/replica:0/task:0/device:CPU:0].\n",
      "See below for details of this colocation group:\n",
      "Colocation Debug Info:\n",
      "Colocation group had the following types and supported devices: \n",
      "Root Member(assigned_device_name_index_=-1 requested_device_name_='/device:GPU:0' assigned_device_name_='' resource_device_name_='/device:GPU:0' supported_device_types_=[CPU] possible_devices_=[]\n",
      "AssignAddVariableOp: CPU \n",
      "AssignVariableOp: CPU \n",
      "ReadVariableOp: CPU \n",
      "VarIsInitializedOp: CPU \n",
      "VarHandleOp: CPU \n",
      "Const: CPU \n",
      "\n",
      "Colocation members, user-requested devices, and framework assigned devices, if any:\n",
      "  training/Adam/iter/Initializer/zeros (Const) \n",
      "  training/Adam/iter (VarHandleOp) /device:GPU:0\n",
      "  training/Adam/iter/IsInitialized/VarIsInitializedOp (VarIsInitializedOp) /device:GPU:0\n",
      "  training/Adam/iter/Assign (AssignVariableOp) /device:GPU:0\n",
      "  training/Adam/iter/Read/ReadVariableOp (ReadVariableOp) /device:GPU:0\n",
      "  training/Adam/ReadVariableOp (ReadVariableOp) \n",
      "  training/Adam/Adam/AssignAddVariableOp (AssignAddVariableOp) /device:GPU:0\n",
      "  VarIsInitializedOp_4 (VarIsInitializedOp) /device:GPU:0\n",
      "\n",
      "2023-06-05 01:56:43.974404: W tensorflow/core/common_runtime/colocation_graph.cc:1214] Failed to place the graph without changing the devices of some resources. Some of the operations (that had to be colocated with resource generating operations) are not supported on the resources' devices. Current candidate devices are [\n",
      "  /job:localhost/replica:0/task:0/device:CPU:0].\n",
      "See below for details of this colocation group:\n",
      "Colocation Debug Info:\n",
      "Colocation group had the following types and supported devices: \n",
      "Root Member(assigned_device_name_index_=-1 requested_device_name_='/device:GPU:0' assigned_device_name_='' resource_device_name_='/device:GPU:0' supported_device_types_=[CPU] possible_devices_=[]\n",
      "AssignVariableOp: CPU \n",
      "ReadVariableOp: CPU \n",
      "VarIsInitializedOp: CPU \n",
      "VarHandleOp: CPU \n",
      "Const: CPU \n",
      "\n",
      "Colocation members, user-requested devices, and framework assigned devices, if any:\n",
      "  training/Adam/beta_1/Initializer/initial_value (Const) \n",
      "  training/Adam/beta_1 (VarHandleOp) /device:GPU:0\n",
      "  training/Adam/beta_1/IsInitialized/VarIsInitializedOp (VarIsInitializedOp) /device:GPU:0\n",
      "  training/Adam/beta_1/Assign (AssignVariableOp) /device:GPU:0\n",
      "  training/Adam/beta_1/Read/ReadVariableOp (ReadVariableOp) /device:GPU:0\n",
      "  training/Adam/Identity_1/ReadVariableOp (ReadVariableOp) \n",
      "  VarIsInitializedOp_14 (VarIsInitializedOp) /device:GPU:0\n",
      "\n",
      "2023-06-05 01:56:43.974418: W tensorflow/core/common_runtime/colocation_graph.cc:1214] Failed to place the graph without changing the devices of some resources. Some of the operations (that had to be colocated with resource generating operations) are not supported on the resources' devices. Current candidate devices are [\n",
      "  /job:localhost/replica:0/task:0/device:CPU:0].\n",
      "See below for details of this colocation group:\n",
      "Colocation Debug Info:\n",
      "Colocation group had the following types and supported devices: \n",
      "Root Member(assigned_device_name_index_=-1 requested_device_name_='/device:GPU:0' assigned_device_name_='' resource_device_name_='/device:GPU:0' supported_device_types_=[CPU] possible_devices_=[]\n",
      "AssignVariableOp: CPU \n",
      "ReadVariableOp: CPU \n",
      "VarIsInitializedOp: CPU \n",
      "VarHandleOp: CPU \n",
      "Const: CPU \n",
      "\n",
      "Colocation members, user-requested devices, and framework assigned devices, if any:\n",
      "  training/Adam/beta_2/Initializer/initial_value (Const) \n",
      "  training/Adam/beta_2 (VarHandleOp) /device:GPU:0\n",
      "  training/Adam/beta_2/IsInitialized/VarIsInitializedOp (VarIsInitializedOp) /device:GPU:0\n",
      "  training/Adam/beta_2/Assign (AssignVariableOp) /device:GPU:0\n",
      "  training/Adam/beta_2/Read/ReadVariableOp (ReadVariableOp) /device:GPU:0\n",
      "  training/Adam/Identity_2/ReadVariableOp (ReadVariableOp) \n",
      "  VarIsInitializedOp_8 (VarIsInitializedOp) /device:GPU:0\n",
      "\n",
      "2023-06-05 01:56:43.974430: W tensorflow/core/common_runtime/colocation_graph.cc:1214] Failed to place the graph without changing the devices of some resources. Some of the operations (that had to be colocated with resource generating operations) are not supported on the resources' devices. Current candidate devices are [\n",
      "  /job:localhost/replica:0/task:0/device:CPU:0].\n",
      "See below for details of this colocation group:\n",
      "Colocation Debug Info:\n",
      "Colocation group had the following types and supported devices: \n",
      "Root Member(assigned_device_name_index_=-1 requested_device_name_='/device:GPU:0' assigned_device_name_='' resource_device_name_='/device:GPU:0' supported_device_types_=[CPU] possible_devices_=[]\n",
      "AssignVariableOp: CPU \n",
      "ReadVariableOp: CPU \n",
      "VarIsInitializedOp: CPU \n",
      "VarHandleOp: CPU \n",
      "Const: CPU \n",
      "\n",
      "Colocation members, user-requested devices, and framework assigned devices, if any:\n",
      "  training/Adam/decay/Initializer/initial_value (Const) \n",
      "  training/Adam/decay (VarHandleOp) /device:GPU:0\n",
      "  training/Adam/decay/IsInitialized/VarIsInitializedOp (VarIsInitializedOp) /device:GPU:0\n",
      "  training/Adam/decay/Assign (AssignVariableOp) /device:GPU:0\n",
      "  training/Adam/decay/Read/ReadVariableOp (ReadVariableOp) /device:GPU:0\n",
      "  VarIsInitializedOp_2 (VarIsInitializedOp) /device:GPU:0\n",
      "\n",
      "2023-06-05 01:56:43.974447: W tensorflow/core/common_runtime/colocation_graph.cc:1214] Failed to place the graph without changing the devices of some resources. Some of the operations (that had to be colocated with resource generating operations) are not supported on the resources' devices. Current candidate devices are [\n",
      "  /job:localhost/replica:0/task:0/device:CPU:0].\n",
      "See below for details of this colocation group:\n",
      "Colocation Debug Info:\n",
      "Colocation group had the following types and supported devices: \n",
      "Root Member(assigned_device_name_index_=-1 requested_device_name_='/device:GPU:0' assigned_device_name_='' resource_device_name_='/device:GPU:0' supported_device_types_=[CPU] possible_devices_=[]\n",
      "AssignVariableOp: CPU \n",
      "ReadVariableOp: CPU \n",
      "VarIsInitializedOp: CPU \n",
      "VarHandleOp: CPU \n",
      "Const: CPU \n",
      "\n",
      "Colocation members, user-requested devices, and framework assigned devices, if any:\n",
      "  training/Adam/learning_rate/Initializer/initial_value (Const) \n",
      "  training/Adam/learning_rate (VarHandleOp) /device:GPU:0\n",
      "  training/Adam/learning_rate/IsInitialized/VarIsInitializedOp (VarIsInitializedOp) /device:GPU:0\n",
      "  training/Adam/learning_rate/Assign (AssignVariableOp) /device:GPU:0\n",
      "  training/Adam/learning_rate/Read/ReadVariableOp (ReadVariableOp) /device:GPU:0\n",
      "  training/Adam/Identity/ReadVariableOp (ReadVariableOp) \n",
      "  VarIsInitializedOp_12 (VarIsInitializedOp) /device:GPU:0\n",
      "\n",
      "2023-06-05 01:56:43.984662: W tensorflow/c/c_api.cc:300] Operation '{name:'training/Adam/dense_1/kernel/v/Assign' id:281 op device:{requested: '/device:GPU:0', assigned: ''} def:{{{node training/Adam/dense_1/kernel/v/Assign}} = AssignVariableOp[_has_manual_control_dependencies=true, dtype=DT_FLOAT, validate_shape=false, _device=\"/device:GPU:0\"](training/Adam/dense_1/kernel/v, training/Adam/dense_1/kernel/v/Initializer/zeros)}}' was changed by setting attribute after it was run by a session. This mutation will have no effect, and will trigger an error in the future. Either don't modify nodes after running them or create a new session.\n"
     ]
    },
    {
     "name": "stdout",
     "output_type": "stream",
     "text": [
      "60000/60000 [==============================] - 1s 22us/sample - loss: 0.2901 - acc: 0.9154\n",
      "Epoch 2/5\n",
      "60000/60000 [==============================] - 1s 21us/sample - loss: 0.1401 - acc: 0.9582\n",
      "Epoch 3/5\n",
      "60000/60000 [==============================] - 1s 21us/sample - loss: 0.1056 - acc: 0.9681\n",
      "Epoch 4/5\n",
      "60000/60000 [==============================] - 1s 21us/sample - loss: 0.0872 - acc: 0.9734\n",
      "Epoch 5/5\n",
      "60000/60000 [==============================] - 1s 21us/sample - loss: 0.0741 - acc: 0.9772\n",
      "[0.07117008251422084, 0.9768]\n"
     ]
    },
    {
     "name": "stderr",
     "output_type": "stream",
     "text": [
      "/home/p0s1x/Documents/workspace/personal/geforce-gtx-1070-ubuntu-22.04-setup/.venv/lib/python3.10/site-packages/keras/engine/training_v1.py:2335: UserWarning: `Model.state_updates` will be removed in a future version. This property should not be used in TensorFlow 2.0, as `updates` are applied automatically.\n",
      "  updates = self.state_updates\n",
      "2023-06-05 01:56:50.350890: W tensorflow/c/c_api.cc:300] Operation '{name:'loss/mul' id:131 op device:{requested: '/device:GPU:0', assigned: ''} def:{{{node loss/mul}} = Mul[T=DT_FLOAT, _has_manual_control_dependencies=true, _device=\"/device:GPU:0\"](loss/mul/x, loss/dense_1_loss/value)}}' was changed by setting attribute after it was run by a session. This mutation will have no effect, and will trigger an error in the future. Either don't modify nodes after running them or create a new session.\n"
     ]
    }
   ],
   "source": [
    "with tf.device('/gpu:0'):\n",
    "    mnist = tf.keras.datasets.mnist\n",
    "\n",
    "    (x_train, y_train),(x_test, y_test) = mnist.load_data()\n",
    "    x_train, x_test = x_train / 255.0, x_test / 255.0\n",
    "\n",
    "    model = tf.keras.models.Sequential([\n",
    "      tf.keras.layers.Flatten(input_shape=(28, 28)),\n",
    "      tf.keras.layers.Dense(128, activation='relu'),\n",
    "      tf.keras.layers.Dropout(0.2),\n",
    "      tf.keras.layers.Dense(10, activation='softmax')\n",
    "    ])\n",
    "\n",
    "    model.compile(optimizer='adam',\n",
    "                  loss='sparse_categorical_crossentropy',\n",
    "                  metrics=['accuracy'])\n",
    "\n",
    "    model.fit(x_train, y_train, epochs=5)\n",
    "    print(model.evaluate(x_test, y_test))"
   ]
  },
  {
   "cell_type": "code",
   "execution_count": 10,
   "metadata": {},
   "outputs": [
    {
     "name": "stdout",
     "output_type": "stream",
     "text": [
      "Tensor(\"sequential_1/softmax/Softmax:0\", shape=(5, 10), dtype=float32, device=/device:GPU:0)\n"
     ]
    }
   ],
   "source": [
    "with tf.device('/gpu:0'):\n",
    "\n",
    "    probability_model = tf.keras.Sequential([\n",
    "      model,\n",
    "      tf.keras.layers.Softmax()\n",
    "    ])\n",
    "\n",
    "    print(probability_model(x_test[:5]))\n",
    "    \n",
    "    "
   ]
  }
 ],
 "metadata": {
  "kernelspec": {
   "display_name": "Python 3 (ipykernel)",
   "language": "python",
   "name": "python3"
  },
  "language_info": {
   "codemirror_mode": {
    "name": "ipython",
    "version": 3
   },
   "file_extension": ".py",
   "mimetype": "text/x-python",
   "name": "python",
   "nbconvert_exporter": "python",
   "pygments_lexer": "ipython3",
   "version": "3.10.9"
  }
 },
 "nbformat": 4,
 "nbformat_minor": 4
}
